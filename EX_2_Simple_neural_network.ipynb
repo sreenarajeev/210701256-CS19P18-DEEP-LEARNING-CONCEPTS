{
  "cells": [
    {
      "cell_type": "code",
      "execution_count": 1,
      "id": "0ccfa1a6-5b1e-4039-9cfa-07c05fe515b1",
      "metadata": {
        "id": "0ccfa1a6-5b1e-4039-9cfa-07c05fe515b1"
      },
      "outputs": [],
      "source": [
        "import numpy as np\n"
      ]
    },
    {
      "cell_type": "code",
      "execution_count": 2,
      "id": "48e69573-decf-456a-bec4-46030d90b4bc",
      "metadata": {
        "id": "48e69573-decf-456a-bec4-46030d90b4bc",
        "outputId": "f7e1181c-2cd0-4203-cd6d-772c65c84524",
        "colab": {
          "base_uri": "https://localhost:8080/"
        }
      },
      "outputs": [
        {
          "output_type": "stream",
          "name": "stdout",
          "text": [
            "Initial weights:\n",
            " [[0.37454012]\n",
            " [0.95071431]]\n"
          ]
        }
      ],
      "source": [
        "np.random.seed(42)\n",
        "\n",
        "# Initialize weights for a simple network with 2 inputs and 1 output neuron\n",
        "weights = np.random.rand(2, 1)\n",
        "print(\"Initial weights:\\n\", weights)\n"
      ]
    },
    {
      "cell_type": "code",
      "execution_count": 3,
      "id": "10f68db6-a80b-4a99-87ea-a9d5d5646c5f",
      "metadata": {
        "id": "10f68db6-a80b-4a99-87ea-a9d5d5646c5f"
      },
      "outputs": [],
      "source": [
        "def sigmoid(x):\n",
        "    return 1 / (1 + np.exp(-x))\n",
        "\n",
        "def sigmoid_derivative(x):\n",
        "    return x * (1 - x)\n"
      ]
    },
    {
      "cell_type": "code",
      "execution_count": 4,
      "id": "d14b6995-5398-4cac-a70a-4f3d720ff7b5",
      "metadata": {
        "id": "d14b6995-5398-4cac-a70a-4f3d720ff7b5"
      },
      "outputs": [],
      "source": [
        "def forward_propagate(inputs, weights):\n",
        "    # Calculate the weighted sum of inputs\n",
        "    net_input = np.dot(inputs, weights)\n",
        "    # Apply the sigmoid activation function\n",
        "    output = sigmoid(net_input)\n",
        "    return output\n"
      ]
    },
    {
      "cell_type": "code",
      "execution_count": 5,
      "id": "88d219bd-dd3e-4695-b42e-b4a7a111f856",
      "metadata": {
        "id": "88d219bd-dd3e-4695-b42e-b4a7a111f856"
      },
      "outputs": [],
      "source": [
        "def backpropagate(error, inputs, weights, learning_rate):\n",
        "    # Calculate the gradient (error * derivative of sigmoid)\n",
        "    gradient = error * sigmoid_derivative(inputs)\n",
        "    # Adjust weights\n",
        "    weights += learning_rate * np.dot(inputs.T, gradient)\n",
        "    return weights\n"
      ]
    },
    {
      "cell_type": "code",
      "execution_count": 6,
      "id": "153e6d47-c056-415a-8f0a-8dd64608b095",
      "metadata": {
        "id": "153e6d47-c056-415a-8f0a-8dd64608b095",
        "outputId": "3368b06b-0134-45c6-9da5-5a3047298df5",
        "colab": {
          "base_uri": "https://localhost:8080/",
          "height": 329
        }
      },
      "outputs": [
        {
          "output_type": "error",
          "ename": "ValueError",
          "evalue": "non-broadcastable output operand with shape (2,1) doesn't match the broadcast shape (2,2)",
          "traceback": [
            "\u001b[0;31m---------------------------------------------------------------------------\u001b[0m",
            "\u001b[0;31mValueError\u001b[0m                                Traceback (most recent call last)",
            "\u001b[0;32m<ipython-input-6-62be162d9c7b>\u001b[0m in \u001b[0;36m<cell line: 15>\u001b[0;34m()\u001b[0m\n\u001b[1;32m     22\u001b[0m \u001b[0;34m\u001b[0m\u001b[0m\n\u001b[1;32m     23\u001b[0m         \u001b[0;31m# Backward propagation and update weights\u001b[0m\u001b[0;34m\u001b[0m\u001b[0;34m\u001b[0m\u001b[0m\n\u001b[0;32m---> 24\u001b[0;31m         \u001b[0mweights\u001b[0m \u001b[0;34m=\u001b[0m \u001b[0mbackpropagate\u001b[0m\u001b[0;34m(\u001b[0m\u001b[0merror\u001b[0m\u001b[0;34m,\u001b[0m \u001b[0minputs\u001b[0m\u001b[0;34m[\u001b[0m\u001b[0mi\u001b[0m\u001b[0;34m]\u001b[0m\u001b[0;34m.\u001b[0m\u001b[0mreshape\u001b[0m\u001b[0;34m(\u001b[0m\u001b[0;36m1\u001b[0m\u001b[0;34m,\u001b[0m \u001b[0;34m-\u001b[0m\u001b[0;36m1\u001b[0m\u001b[0;34m)\u001b[0m\u001b[0;34m,\u001b[0m \u001b[0mweights\u001b[0m\u001b[0;34m,\u001b[0m \u001b[0mlearning_rate\u001b[0m\u001b[0;34m)\u001b[0m\u001b[0;34m\u001b[0m\u001b[0;34m\u001b[0m\u001b[0m\n\u001b[0m\u001b[1;32m     25\u001b[0m \u001b[0;34m\u001b[0m\u001b[0m\n\u001b[1;32m     26\u001b[0m \u001b[0;31m# Print final weights\u001b[0m\u001b[0;34m\u001b[0m\u001b[0;34m\u001b[0m\u001b[0m\n",
            "\u001b[0;32m<ipython-input-5-f4918951734e>\u001b[0m in \u001b[0;36mbackpropagate\u001b[0;34m(error, inputs, weights, learning_rate)\u001b[0m\n\u001b[1;32m      3\u001b[0m     \u001b[0mgradient\u001b[0m \u001b[0;34m=\u001b[0m \u001b[0merror\u001b[0m \u001b[0;34m*\u001b[0m \u001b[0msigmoid_derivative\u001b[0m\u001b[0;34m(\u001b[0m\u001b[0minputs\u001b[0m\u001b[0;34m)\u001b[0m\u001b[0;34m\u001b[0m\u001b[0;34m\u001b[0m\u001b[0m\n\u001b[1;32m      4\u001b[0m     \u001b[0;31m# Adjust weights\u001b[0m\u001b[0;34m\u001b[0m\u001b[0;34m\u001b[0m\u001b[0m\n\u001b[0;32m----> 5\u001b[0;31m     \u001b[0mweights\u001b[0m \u001b[0;34m+=\u001b[0m \u001b[0mlearning_rate\u001b[0m \u001b[0;34m*\u001b[0m \u001b[0mnp\u001b[0m\u001b[0;34m.\u001b[0m\u001b[0mdot\u001b[0m\u001b[0;34m(\u001b[0m\u001b[0minputs\u001b[0m\u001b[0;34m.\u001b[0m\u001b[0mT\u001b[0m\u001b[0;34m,\u001b[0m \u001b[0mgradient\u001b[0m\u001b[0;34m)\u001b[0m\u001b[0;34m\u001b[0m\u001b[0;34m\u001b[0m\u001b[0m\n\u001b[0m\u001b[1;32m      6\u001b[0m     \u001b[0;32mreturn\u001b[0m \u001b[0mweights\u001b[0m\u001b[0;34m\u001b[0m\u001b[0;34m\u001b[0m\u001b[0m\n",
            "\u001b[0;31mValueError\u001b[0m: non-broadcastable output operand with shape (2,1) doesn't match the broadcast shape (2,2)"
          ]
        }
      ],
      "source": [
        "# Define the input and output arrays\n",
        "inputs = np.array([[0, 0],\n",
        "                   [0, 1],\n",
        "                   [1, 0],\n",
        "                   [1, 1]])\n",
        "outputs = np.array([[0],\n",
        "                    [1],\n",
        "                    [1],\n",
        "                    [0]])\n",
        "\n",
        "# Learning rate\n",
        "learning_rate = 0.1\n",
        "\n",
        "# Training loop\n",
        "for epoch in range(10000):  # Train for 10,000 iterations\n",
        "    for i in range(len(inputs)):\n",
        "        # Forward propagation\n",
        "        predicted_output = forward_propagate(inputs[i], weights)\n",
        "\n",
        "        # Calculate the error\n",
        "        error = outputs[i] - predicted_output\n",
        "\n",
        "        # Backward propagation and update weights\n",
        "        weights = backpropagate(error, inputs[i].reshape(1, -1), weights, learning_rate)\n",
        "\n",
        "# Print final weights\n",
        "print(\"Final weights:\\n\", weights)\n",
        "\n",
        "# Test the network with the inputs\n",
        "for i in range(len(inputs)):\n",
        "    predicted_output = forward_propagate(inputs[i], weights)\n",
        "    print(f\"Input: {inputs[i]}, Predicted Output: {predicted_output}\")\n"
      ]
    },
    {
      "cell_type": "code",
      "execution_count": 7,
      "id": "85968f25-b576-4470-8a34-d7c654a85c05",
      "metadata": {
        "id": "85968f25-b576-4470-8a34-d7c654a85c05",
        "outputId": "008abd9b-731f-44be-b168-679f75155c2b",
        "colab": {
          "base_uri": "https://localhost:8080/"
        }
      },
      "outputs": [
        {
          "output_type": "stream",
          "name": "stdout",
          "text": [
            "Initial weights:\n",
            " [[0.37454012]\n",
            " [0.95071431]]\n",
            "Final weights:\n",
            " [[-0.00836805]\n",
            " [-0.00836805]]\n",
            "Input: [0 0], Predicted Output: [0.5]\n",
            "Input: [0 1], Predicted Output: [0.497908]\n",
            "Input: [1 0], Predicted Output: [0.497908]\n",
            "Input: [1 1], Predicted Output: [0.49581607]\n"
          ]
        }
      ],
      "source": [
        "import numpy as np\n",
        "\n",
        "#applying seed\n",
        "np.random.seed(42)\n",
        "\n",
        "# Initialize weights for a network with 2 inputs and 1 output neuron\n",
        "weights = np.random.rand(2, 1)\n",
        "print(\"Initial weights:\\n\", weights)\n",
        "\n",
        "# Define the sigmoid transfer function and its derivative\n",
        "def sigmoid(x):\n",
        "    return 1 / (1 + np.exp(-x))\n",
        "\n",
        "def sigmoid_derivative(x):\n",
        "    return x * (1 - x)\n",
        "\n",
        "# Forward propagation function\n",
        "def forward_propagate(inputs, weights):\n",
        "    net_input = np.dot(inputs, weights)\n",
        "    output = sigmoid(net_input)\n",
        "    return output\n",
        "\n",
        "# Backward propagation function\n",
        "def backpropagate(error, inputs, weights, learning_rate):\n",
        "    # Compute the gradient\n",
        "    gradient = error * sigmoid_derivative(forward_propagate(inputs, weights))\n",
        "    # Update weights\n",
        "    weights += learning_rate * np.dot(inputs.T, gradient)\n",
        "    return weights\n",
        "\n",
        "# Define inputs and outputs\n",
        "inputs = np.array([[0, 0],\n",
        "                   [0, 1],\n",
        "                   [1, 0],\n",
        "                   [1, 1]])\n",
        "outputs = np.array([[0],\n",
        "                    [1],\n",
        "                    [1],\n",
        "                    [0]])\n",
        "\n",
        "# Learning rate\n",
        "learning_rate = 0.1\n",
        "\n",
        "# Training loop\n",
        "for epoch in range(10000):  # Train for 10,000 iterations\n",
        "    for i in range(len(inputs)):\n",
        "        # Forward propagation\n",
        "        predicted_output = forward_propagate(inputs[i], weights)\n",
        "\n",
        "        # Calculate the error\n",
        "        error = outputs[i] - predicted_output\n",
        "\n",
        "        # Backward propagation and update weights\n",
        "        weights = backpropagate(error, inputs[i].reshape(1, -1), weights, learning_rate)\n",
        "\n",
        "# Print final weights\n",
        "print(\"Final weights:\\n\", weights)\n",
        "\n",
        "# Test the network with the inputs\n",
        "for i in range(len(inputs)):\n",
        "    predicted_output = forward_propagate(inputs[i], weights)\n",
        "    print(f\"Input: {inputs[i]}, Predicted Output: {predicted_output}\")\n"
      ]
    },
    {
      "cell_type": "code",
      "execution_count": 8,
      "id": "d21332da-c54a-4748-9058-bbb7dcd9ce75",
      "metadata": {
        "id": "d21332da-c54a-4748-9058-bbb7dcd9ce75",
        "outputId": "1d2ed0eb-8c3f-4ab4-d633-4824e83eb754",
        "colab": {
          "base_uri": "https://localhost:8080/"
        }
      },
      "outputs": [
        {
          "output_type": "stream",
          "name": "stdout",
          "text": [
            "Final input to hidden weights:\n",
            " [[0.80450179 5.58233772]\n",
            " [0.80085487 5.58502787]]\n",
            "Final hidden to output weights:\n",
            " [[-11.85438476]\n",
            " [  9.20944271]]\n",
            "Input: [0 0], Predicted Output: [[0.21040747]]\n",
            "Input: [0 1], Predicted Output: [[0.7298009]]\n",
            "Input: [1 0], Predicted Output: [[0.72795701]]\n",
            "Input: [1 1], Predicted Output: [[0.34015296]]\n"
          ]
        }
      ],
      "source": [
        "import numpy as np\n",
        "\n",
        "# Seed for reproducibility\n",
        "np.random.seed(42)\n",
        "\n",
        "# Initialize weights\n",
        "input_to_hidden_weights = np.random.rand(2, 2)  # Weights for 2 inputs to 2 hidden neurons\n",
        "hidden_to_output_weights = np.random.rand(2, 1)  # Weights for 2 hidden neurons to 1 output neuron\n",
        "\n",
        "# Define the sigmoid transfer function and its derivative\n",
        "def sigmoid(x):\n",
        "    return 1 / (1 + np.exp(-x))\n",
        "\n",
        "def sigmoid_derivative(x):\n",
        "    return x * (1 - x)\n",
        "\n",
        "# Forward propagation function\n",
        "def forward_propagate(inputs, input_to_hidden_weights, hidden_to_output_weights):\n",
        "    # Hidden layer calculations\n",
        "    hidden_layer_input = np.dot(inputs, input_to_hidden_weights)  # Shape (1, 2)\n",
        "    hidden_layer_output = sigmoid(hidden_layer_input)  # Shape (1, 2)\n",
        "\n",
        "    # Output layer calculations\n",
        "    output_layer_input = np.dot(hidden_layer_output, hidden_to_output_weights)  # Shape (1, 1)\n",
        "    output = sigmoid(output_layer_input)  # Shape (1, 1)\n",
        "\n",
        "    return hidden_layer_output, output\n",
        "\n",
        "# Backward propagation function\n",
        "def backpropagate(inputs, hidden_layer_output, predicted_output, expected_output,\n",
        "                  input_to_hidden_weights, hidden_to_output_weights, learning_rate):\n",
        "\n",
        "    # Calculate the error in the output\n",
        "    output_error = expected_output - predicted_output  # Shape (1, 1)\n",
        "    output_delta = output_error * sigmoid_derivative(predicted_output)  # Shape (1, 1)\n",
        "\n",
        "    # Calculate the error in the hidden layer\n",
        "    hidden_error = output_delta.dot(hidden_to_output_weights.T)  # Shape (1, 2)\n",
        "    hidden_delta = hidden_error * sigmoid_derivative(hidden_layer_output)  # Shape (1, 2)\n",
        "\n",
        "    # Update the weights (reshape to ensure proper dot product)\n",
        "    hidden_to_output_weights += hidden_layer_output.T.dot(output_delta) * learning_rate  # Shape (2, 1)\n",
        "    input_to_hidden_weights += inputs.T.dot(hidden_delta) * learning_rate  # Shape (2, 2)\n",
        "\n",
        "    return input_to_hidden_weights, hidden_to_output_weights\n",
        "\n",
        "# Define the XOR problem inputs and outputs\n",
        "inputs = np.array([[0, 0],\n",
        "                   [0, 1],\n",
        "                   [1, 0],\n",
        "                   [1, 1]])  # Shape (4, 2)\n",
        "outputs = np.array([[0],\n",
        "                    [1],\n",
        "                    [1],\n",
        "                    [0]])  # Shape (4, 1)\n",
        "\n",
        "# Learning rate\n",
        "learning_rate = 0.1\n",
        "\n",
        "# Training loop\n",
        "for epoch in range(10000):  # Train for 10,000 iterations\n",
        "    for i in range(len(inputs)):\n",
        "        # Forward propagation\n",
        "        hidden_layer_output, predicted_output = forward_propagate(inputs[i].reshape(1, -1),\n",
        "                                                                  input_to_hidden_weights,\n",
        "                                                                  hidden_to_output_weights)\n",
        "\n",
        "        # Backward propagation and weight updates\n",
        "        input_to_hidden_weights, hidden_to_output_weights = backpropagate(inputs[i].reshape(1, -1),\n",
        "                                                                          hidden_layer_output,\n",
        "                                                                          predicted_output,\n",
        "                                                                          outputs[i].reshape(1, -1),\n",
        "                                                                          input_to_hidden_weights,\n",
        "                                                                          hidden_to_output_weights,\n",
        "                                                                          learning_rate)\n",
        "\n",
        "# Print final weights\n",
        "print(\"Final input to hidden weights:\\n\", input_to_hidden_weights)\n",
        "print(\"Final hidden to output weights:\\n\", hidden_to_output_weights)\n",
        "\n",
        "# Test the network with the XOR inputs\n",
        "for i in range(len(inputs)):\n",
        "    _, predicted_output = forward_propagate(inputs[i].reshape(1, -1), input_to_hidden_weights, hidden_to_output_weights)\n",
        "    print(f\"Input: {inputs[i]}, Predicted Output: {predicted_output}\")\n"
      ]
    },
    {
      "cell_type": "code",
      "execution_count": 9,
      "id": "670b9333-2112-4771-96f1-3e6b046c8b01",
      "metadata": {
        "id": "670b9333-2112-4771-96f1-3e6b046c8b01",
        "outputId": "b1b09680-89fd-4167-e265-6f2c59b63663",
        "colab": {
          "base_uri": "https://localhost:8080/"
        }
      },
      "outputs": [
        {
          "output_type": "stream",
          "name": "stdout",
          "text": [
            "Final input to output weights:\n",
            " [[-3.31783478e-16]\n",
            " [ 1.66312236e-16]]\n",
            "Input: [0 0], Predicted Output: [[0.5]]\n",
            "Input: [0 1], Predicted Output: [[0.5]]\n",
            "Input: [1 0], Predicted Output: [[0.5]]\n",
            "Input: [1 1], Predicted Output: [[0.5]]\n"
          ]
        }
      ],
      "source": [
        "import numpy as np\n",
        "\n",
        "# Seed for reproducibility\n",
        "np.random.seed(42)\n",
        "\n",
        "# Initialize weights\n",
        "input_to_output_weights = np.random.rand(2, 1)  # Weights for 2 inputs to 1 output neuron\n",
        "\n",
        "# Define the sigmoid transfer function and its derivative\n",
        "def sigmoid(x):\n",
        "    return 1 / (1 + np.exp(-x))\n",
        "\n",
        "def sigmoid_derivative(x):\n",
        "    return x * (1 - x)\n",
        "\n",
        "# Forward propagation function\n",
        "def forward_propagate(inputs, input_to_output_weights):\n",
        "    output_layer_input = np.dot(inputs, input_to_output_weights)  # Shape (n_samples, 1)\n",
        "    output = sigmoid(output_layer_input)  # Shape (n_samples, 1)\n",
        "    return output\n",
        "\n",
        "# Backward propagation function\n",
        "def backpropagate(inputs, predicted_output, expected_output, input_to_output_weights, learning_rate):\n",
        "    # Calculate the error\n",
        "    output_error = expected_output - predicted_output  # Shape (n_samples, 1)\n",
        "    output_delta = output_error * sigmoid_derivative(predicted_output)  # Shape (n_samples, 1)\n",
        "\n",
        "    # Update the weights\n",
        "    input_to_output_weights += np.dot(inputs.T, output_delta) * learning_rate  # Shape (2, 1)\n",
        "\n",
        "    return input_to_output_weights\n",
        "\n",
        "# Define the AND problem inputs and outputs\n",
        "inputs = np.array([[0, 0],\n",
        "                   [0, 1],\n",
        "                   [1, 0],\n",
        "                   [1, 1]])  # Shape (4, 2)\n",
        "outputs = np.array([[0],\n",
        "                    [0],\n",
        "                    [0],\n",
        "                    [1]])  # Shape (4, 1)\n",
        "\n",
        "# Learning rate\n",
        "learning_rate = 0.1\n",
        "\n",
        "# Training loop\n",
        "for epoch in range(10000):  # Train for 10,000 iterations\n",
        "    # Forward propagation\n",
        "    predicted_output = forward_propagate(inputs, input_to_output_weights)\n",
        "\n",
        "    # Backward propagation and weight updates\n",
        "    input_to_output_weights = backpropagate(inputs, predicted_output, outputs,\n",
        "                                            input_to_output_weights, learning_rate)\n",
        "\n",
        "# Print final weights\n",
        "print(\"Final input to output weights:\\n\", input_to_output_weights)\n",
        "\n",
        "# Test the network with the AND inputs\n",
        "for i in range(len(inputs)):\n",
        "    predicted_output = forward_propagate(inputs[i].reshape(1, -1), input_to_output_weights)\n",
        "    print(f\"Input: {inputs[i]}, Predicted Output: {predicted_output}\")\n"
      ]
    },
    {
      "cell_type": "code",
      "execution_count": 10,
      "id": "5e8e4dba-6389-49c2-abee-d717cf531567",
      "metadata": {
        "id": "5e8e4dba-6389-49c2-abee-d717cf531567",
        "outputId": "f9cf3c0a-e626-49fc-8475-57dd3f48b484",
        "colab": {
          "base_uri": "https://localhost:8080/"
        }
      },
      "outputs": [
        {
          "output_type": "stream",
          "name": "stdout",
          "text": [
            "[[0. 1. 0. 0.]]\n"
          ]
        }
      ],
      "source": [
        "# import Python Libraries\n",
        "import numpy as np\n",
        "from matplotlib import pyplot as plt\n",
        "\n",
        "# Sigmoid Function\n",
        "def sigmoid(z):\n",
        "    return 1 / (1 + np.exp(-z))\n",
        "\n",
        "# Initialization of the neural network parameters\n",
        "# Initialized all the weights in the range of between 0 and 1\n",
        "# Bias values are initialized to 0\n",
        "def initializeParameters(inputFeatures, neuronsInHiddenLayers, outputFeatures):\n",
        "    W1 = np.random.randn(neuronsInHiddenLayers, inputFeatures)\n",
        "    W2 = np.random.randn(outputFeatures, neuronsInHiddenLayers)\n",
        "    b1 = np.zeros((neuronsInHiddenLayers, 1))\n",
        "    b2 = np.zeros((outputFeatures, 1))\n",
        "\n",
        "    parameters = {\"W1\" : W1, \"b1\": b1,\n",
        "                  \"W2\" : W2, \"b2\": b2}\n",
        "    return parameters\n",
        "\n",
        "# Forward Propagation\n",
        "def forwardPropagation(X, Y, parameters):\n",
        "    m = X.shape[1]\n",
        "    W1 = parameters[\"W1\"]\n",
        "    W2 = parameters[\"W2\"]\n",
        "    b1 = parameters[\"b1\"]\n",
        "    b2 = parameters[\"b2\"]\n",
        "\n",
        "    Z1 = np.dot(W1, X) + b1\n",
        "    A1 = sigmoid(Z1)\n",
        "    Z2 = np.dot(W2, A1) + b2\n",
        "    A2 = sigmoid(Z2)\n",
        "\n",
        "    cache = (Z1, A1, W1, b1, Z2, A2, W2, b2)\n",
        "    logprobs = np.multiply(np.log(A2), Y) + np.multiply(np.log(1 - A2), (1 - Y))\n",
        "    cost = -np.sum(logprobs) / m\n",
        "    return cost, cache, A2\n",
        "\n",
        "# Backward Propagation\n",
        "def backwardPropagation(X, Y, cache):\n",
        "    m = X.shape[1]\n",
        "    (Z1, A1, W1, b1, Z2, A2, W2, b2) = cache\n",
        "\n",
        "    dZ2 = A2 - Y\n",
        "    dW2 = np.dot(dZ2, A1.T) / m\n",
        "    db2 = np.sum(dZ2, axis = 1, keepdims = True)\n",
        "\n",
        "    dA1 = np.dot(W2.T, dZ2)\n",
        "    dZ1 = np.multiply(dA1, A1 * (1- A1))\n",
        "    dW1 = np.dot(dZ1, X.T) / m\n",
        "    db1 = np.sum(dZ1, axis = 1, keepdims = True) / m\n",
        "\n",
        "    gradients = {\"dZ2\": dZ2, \"dW2\": dW2, \"db2\": db2,\n",
        "                 \"dZ1\": dZ1, \"dW1\": dW1, \"db1\": db1}\n",
        "    return gradients\n",
        "\n",
        "# Updating the weights based on the negative gradients\n",
        "def updateParameters(parameters, gradients, learningRate):\n",
        "    parameters[\"W1\"] = parameters[\"W1\"] - learningRate * gradients[\"dW1\"]\n",
        "    parameters[\"W2\"] = parameters[\"W2\"] - learningRate * gradients[\"dW2\"]\n",
        "    parameters[\"b1\"] = parameters[\"b1\"] - learningRate * gradients[\"db1\"]\n",
        "    parameters[\"b2\"] = parameters[\"b2\"] - learningRate * gradients[\"db2\"]\n",
        "    return parameters\n",
        "\n",
        "# Model to learn the AND truth table\n",
        "X = np.array([[0, 0, 1, 1], [0, 1, 0, 1]]) # AND input\n",
        "Y = np.array([[0, 0, 0, 1]]) # AND output\n",
        "\n",
        "# Define model parameters\n",
        "neuronsInHiddenLayers = 2 # number of hidden layer neurons (2)\n",
        "inputFeatures = X.shape[0] # number of input features (2)\n",
        "outputFeatures = Y.shape[0] # number of output features (1)\n",
        "parameters = initializeParameters(inputFeatures, neuronsInHiddenLayers, outputFeatures)\n",
        "epoch = 10000\n",
        "learningRate = 0.01\n",
        "losses = np.zeros((epoch, 1))\n",
        "\n",
        "for i in range(epoch):\n",
        "    losses[i, 0], cache, A2 = forwardPropagation(X, Y, parameters)\n",
        "    gradients = backwardPropagation(X, Y, cache)\n",
        "    parameters = updateParameters(parameters, gradients, learningRate)\n",
        "\n",
        "# # Evaluating the performance\n",
        "# plt.figure()\n",
        "# plt.plot(losses)\n",
        "# plt.xlabel(\"EPOCHS\")\n",
        "# plt.ylabel(\"Loss value\")\n",
        "# plt.show()\n",
        "\n",
        "# Testing\n",
        "X = np.array([[1, 1, 0, 0], [0, 1, 0, 1]]) # AND input\n",
        "cost, _, A2 = forwardPropagation(X, Y, parameters)\n",
        "prediction = (A2 > 0.5) * 1.0\n",
        "# print(A2)\n",
        "print(prediction)"
      ]
    },
    {
      "cell_type": "code",
      "execution_count": null,
      "id": "5efc4705-9483-428d-875b-f355438db6db",
      "metadata": {
        "id": "5efc4705-9483-428d-875b-f355438db6db"
      },
      "outputs": [],
      "source": []
    }
  ],
  "metadata": {
    "kernelspec": {
      "display_name": "Python 3 (ipykernel)",
      "language": "python",
      "name": "python3"
    },
    "language_info": {
      "codemirror_mode": {
        "name": "ipython",
        "version": 3
      },
      "file_extension": ".py",
      "mimetype": "text/x-python",
      "name": "python",
      "nbconvert_exporter": "python",
      "pygments_lexer": "ipython3",
      "version": "3.12.4"
    },
    "colab": {
      "provenance": []
    }
  },
  "nbformat": 4,
  "nbformat_minor": 5
}